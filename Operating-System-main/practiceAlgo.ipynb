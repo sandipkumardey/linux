{
 "cells": [
  {
   "metadata": {},
   "cell_type": "markdown",
   "source": "First Come First Serve",
   "id": "1cde124aa94b72a3"
  },
  {
   "cell_type": "code",
   "id": "initial_id",
   "metadata": {
    "collapsed": true,
    "ExecuteTime": {
     "end_time": "2025-04-22T03:46:46.808138Z",
     "start_time": "2025-04-22T03:46:46.802805Z"
    }
   },
   "source": [
    "\n",
    "\n",
    "def fcfs(processes):\n",
    "    processes.sort(key=lambda x:x[0])\n",
    "    ttt = 0\n",
    "    twt = 0\n",
    "    ct = 0\n",
    "    for pid, at, bt in processes:\n",
    "        if ct < at:\n",
    "            ct = at\n",
    "        wt = ct - at\n",
    "        tt = wt + bt\n",
    "\n",
    "        ct += bt\n",
    "        twt += wt\n",
    "        ttt += tt\n",
    "\n",
    "        print(f\"Process {pid}: Waiting Time = {wt}, Turnaround Time = {tt}\")\n",
    "\n",
    "    print(f\"\\nAverage Waiting Time: {twt / len(processes):.2f}\")\n",
    "    print(f\"Average Turnaround Time: {ttt / len(processes):.2f}\")"
   ],
   "outputs": [],
   "execution_count": 3
  },
  {
   "metadata": {
    "ExecuteTime": {
     "end_time": "2025-04-22T03:46:52.085343Z",
     "start_time": "2025-04-22T03:46:52.079921Z"
    }
   },
   "cell_type": "code",
   "source": [
    "process_list = [\n",
    "    (1, 0, 5),  # Process 1 arrives at time 0, requires 5 units of CPU time\n",
    "    (2, 1, 3),  # Process 2 arrives at time 1, requires 3 units of CPU time\n",
    "    (3, 2, 8) # Process 4 arrives at time 3, requires 6 units of CPU time\n",
    "]\n",
    "fcfs(process_list)"
   ],
   "id": "67dbbedd2f197ad6",
   "outputs": [
    {
     "name": "stdout",
     "output_type": "stream",
     "text": [
      "Process 1: Waiting Time = 0, Turnaround Time = 5\n",
      "Process 2: Waiting Time = 4, Turnaround Time = 7\n",
      "Process 3: Waiting Time = 6, Turnaround Time = 14\n",
      "\n",
      "Average Waiting Time: 3.33\n",
      "Average Turnaround Time: 8.67\n"
     ]
    }
   ],
   "execution_count": 5
  },
  {
   "metadata": {},
   "cell_type": "markdown",
   "source": "Sortest Job first",
   "id": "16b688e50f38b73d"
  },
  {
   "metadata": {
    "ExecuteTime": {
     "end_time": "2025-04-21T14:21:53.933618Z",
     "start_time": "2025-04-21T14:21:53.922115Z"
    }
   },
   "cell_type": "code",
   "source": [
    "def sjf(processes):\n",
    "    # Sort processes by arrival time\n",
    "    processes.sort(key=lambda x: x[0])\n",
    "\n",
    "    current_time = 0\n",
    "    tat = 0\n",
    "    twt = 0\n",
    "    n = len(processes)\n",
    "\n",
    "    while processes:\n",
    "        # Get all available processes that have arrived by current time\n",
    "        avl_process = [p for p in processes if p[0] <= current_time]\n",
    "\n",
    "        if avl_process:\n",
    "            # Select the process with the shortest burst time\n",
    "            process = min(avl_process, key=lambda x: x[1])\n",
    "        else:\n",
    "            # If no process is available, move time forward to the next arriving process\n",
    "            process = min(processes, key=lambda x: x[0])\n",
    "            current_time = process[0]\n",
    "\n",
    "        # Extract process details\n",
    "        at, bt, pid = process\n",
    "        wt = current_time - at\n",
    "        tt = wt + bt\n",
    "\n",
    "        # Update cumulative waiting and turnaround times\n",
    "        twt += wt\n",
    "        tat += tt\n",
    "\n",
    "        # Update current time after execution\n",
    "        current_time += bt\n",
    "\n",
    "        # Remove the executed process from the list\n",
    "        processes.remove(process)\n",
    "\n",
    "    # Print the final averages\n",
    "    print(f\"\\nAverage Waiting Time: {twt / n:.2f}\")\n",
    "    print(f\"Average Turnaround Time: {tat / n:.2f}\")\n",
    "\n",
    "# Example Usage\n",
    "process_list = [(0, 16, 0), (1, 5, 1), (2, 6, 2), (3, 1, 3), (4, 2, 4)]\n",
    "sjf(process_list)"
   ],
   "id": "8ceda8df08456db6",
   "outputs": [
    {
     "name": "stdout",
     "output_type": "stream",
     "text": [
      "\n",
      "Average Waiting Time: 13.20\n",
      "Average Turnaround Time: 19.20\n"
     ]
    }
   ],
   "execution_count": 11
  },
  {
   "metadata": {},
   "cell_type": "markdown",
   "source": "Sortest Remaining Time first",
   "id": "45612dea959f86ea"
  },
  {
   "metadata": {
    "ExecuteTime": {
     "end_time": "2025-04-21T16:34:29.159099Z",
     "start_time": "2025-04-21T16:34:29.148110Z"
    }
   },
   "cell_type": "code",
   "source": [
    "def srtf(processes):\n",
    "    processes.sort (key= lambda x: x[0])\n",
    "\n",
    "    twt = 0\n",
    "    ttt = 0\n",
    "    n = len(processes)\n",
    "    current_time = 0\n",
    "    completion_time = {}\n",
    "    remaining_time = {p[2]: p[1] for p in processes}\n",
    "\n",
    "    while remaining_time:\n",
    "        available_process = [p for p in processes if p[0] <= current_time and p[2] in remaining_time]\n",
    "        if available_process:\n",
    "            process = min(available_process, key=lambda x: remaining_time[x[2]])\n",
    "        else:\n",
    "            process = min(processes, key=lambda x: x[0])\n",
    "            current_time = process[0]\n",
    "        at, bt, pid = process\n",
    "        remaining_time[pid] -= 1\n",
    "        current_time += 1\n",
    "        if remaining_time[pid] == 0:\n",
    "\n",
    "            completion_time[pid] = current_time\n",
    "            wt = current_time - at -bt\n",
    "            tt = current_time - at\n",
    "\n",
    "            twt += wt\n",
    "            ttt += tt\n",
    "            del remaining_time[pid]\n",
    "    print(f\"\\nAverage Waiting Time: {twt / n:.2f}\")\n",
    "    print(f\"Average Turnaround Time: {ttt / n:.2f}\")\n",
    "\n",
    "\n",
    "process_list = [(0, 16, 0), (1, 5, 1), (2, 6, 2), (3, 1, 3), (4, 2, 4)]\n",
    "srtf(process_list)\n"
   ],
   "id": "ba81e87d53c3380d",
   "outputs": [
    {
     "name": "stdout",
     "output_type": "stream",
     "text": [
      "\n",
      "Average Waiting Time: 4.80\n",
      "Average Turnaround Time: 10.80\n"
     ]
    }
   ],
   "execution_count": 1
  },
  {
   "metadata": {},
   "cell_type": "markdown",
   "source": "Round Robin Scheduling",
   "id": "93c5b1ed389215d6"
  },
  {
   "metadata": {
    "ExecuteTime": {
     "end_time": "2025-04-21T17:26:25.537362Z",
     "start_time": "2025-04-21T17:26:25.523807Z"
    }
   },
   "cell_type": "code",
   "source": [
    "def rrs(processes, quantum):\n",
    "    ttt = 0\n",
    "    twt = 0\n",
    "    n = len(processes)\n",
    "    remaining_time = {p[2]: p[1] for p in processes}\n",
    "    queue = processes[:]\n",
    "    current_time = 0\n",
    "    while remaining_time:\n",
    "        for at,bt,pid in queue:\n",
    "            if pid in remaining_time and at <= current_time:\n",
    "                if remaining_time[pid] > quantum:\n",
    "                    current_time += quantum\n",
    "                    remaining_time[pid] -= quantum\n",
    "                else:\n",
    "                    current_time += remaining_time[pid]\n",
    "                    wt = current_time - at -bt\n",
    "                    tt = current_time - at\n",
    "\n",
    "                    twt += wt\n",
    "                    ttt += tt\n",
    "                    del remaining_time[pid]\n",
    "    print(f\"\\nAverage Waiting Time: {twt / n:.2f}\")\n",
    "    print(f\"Average Turnaround Time: {ttt / n:.2f}\")\n",
    "\n"
   ],
   "id": "6d43c0abd75be44d",
   "outputs": [],
   "execution_count": 7
  },
  {
   "metadata": {
    "ExecuteTime": {
     "end_time": "2025-04-21T17:26:29.304879Z",
     "start_time": "2025-04-21T17:26:29.296284Z"
    }
   },
   "cell_type": "code",
   "source": [
    "process_list = [(0, 5, 0), (1, 7, 1), (2, 3, 2), (3, 4, 3)]\n",
    "quantum = 2\n",
    "rrs(process_list, quantum)"
   ],
   "id": "330b9038a19c0863",
   "outputs": [
    {
     "name": "stdout",
     "output_type": "stream",
     "text": [
      "\n",
      "Average Waiting Time: 9.50\n",
      "Average Turnaround Time: 14.25\n"
     ]
    }
   ],
   "execution_count": 8
  },
  {
   "metadata": {
    "ExecuteTime": {
     "end_time": "2025-04-22T03:42:28.089130Z",
     "start_time": "2025-04-22T03:42:28.076979Z"
    }
   },
   "cell_type": "code",
   "source": [
    "def priority_scheduling(processes):\n",
    "    processes.sort(key=lambda x: (x[3], x[0]))  # Sorting by priority, then arrival time\n",
    "\n",
    "    twt = 0\n",
    "    ttt = 0\n",
    "    n = len(processes)\n",
    "    current_time = 0\n",
    "    completion_time = {}\n",
    "\n",
    "    for at, bt, pid, priority in processes:\n",
    "        if current_time < at:\n",
    "            current_time = at  # Adjust current time to the next process's arrival\n",
    "\n",
    "        current_time += bt\n",
    "        wt = current_time - at - bt\n",
    "        tt = current_time - at\n",
    "\n",
    "        twt += wt\n",
    "        ttt += tt\n",
    "\n",
    "    print(f\"\\nAverage Waiting Time: {twt / n:.2f}\")\n",
    "    print(f\"Average Turnaround Time: {ttt / n:.2f}\")\n",
    "\n",
    "# Example process list with (Arrival Time, Burst Time, Process ID, Priority)\n",
    "process_list = [(0, 16, 0, 3), (1, 5, 1, 1), (2, 6, 2, 4), (3, 1, 3, 2), (4, 2, 4, 3)]\n",
    "priority_scheduling(process_list)"
   ],
   "id": "b4618b32796c0521",
   "outputs": [
    {
     "name": "stdout",
     "output_type": "stream",
     "text": [
      "\n",
      "Average Waiting Time: 10.40\n",
      "Average Turnaround Time: 16.40\n"
     ]
    }
   ],
   "execution_count": 1
  },
  {
   "metadata": {},
   "cell_type": "code",
   "outputs": [],
   "execution_count": null,
   "source": [
    "def priority_scheduling_non_preemptive(processes):\n",
    "    processes.sort(key=lambda x: (x[3], x[0]))  # Sorting by priority, then arrival time\n",
    "\n",
    "    twt = 0\n",
    "    ttt = 0\n",
    "    n = len(processes)\n",
    "    current_time = 0\n",
    "    completion_time = {}\n",
    "\n",
    "    for at, bt, pid, priority in processes:\n",
    "        if current_time < at:\n",
    "            current_time = at  # Adjust current time to the arrival time of the next process\n",
    "\n",
    "        current_time += bt\n",
    "        completion_time[pid] = current_time\n",
    "        wt = current_time - at - bt\n",
    "        tt = current_time - at\n",
    "\n",
    "        twt += wt\n",
    "        ttt += tt\n",
    "\n",
    "    print(f\"\\nAverage Waiting Time: {twt / n:.2f}\")\n",
    "    print(f\"Average Turnaround Time: {ttt / n:.2f}\")\n",
    "\n",
    "# Example process list with (Arrival Time, Burst Time, Process ID, Priority)\n",
    "process_list = [(0, 16, 0, 3), (1, 5, 1, 1), (2, 6, 2, 4), (3, 1, 3, 2), (4, 2, 4, 3)]\n",
    "priority_scheduling_non_preemptive(process_list)"
   ],
   "id": "43cdf32db3e3ac81"
  }
 ],
 "metadata": {
  "kernelspec": {
   "display_name": "Python 3",
   "language": "python",
   "name": "python3"
  },
  "language_info": {
   "codemirror_mode": {
    "name": "ipython",
    "version": 2
   },
   "file_extension": ".py",
   "mimetype": "text/x-python",
   "name": "python",
   "nbconvert_exporter": "python",
   "pygments_lexer": "ipython2",
   "version": "2.7.6"
  }
 },
 "nbformat": 4,
 "nbformat_minor": 5
}
