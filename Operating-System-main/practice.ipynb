{
 "cells": [
  {
   "cell_type": "code",
   "id": "initial_id",
   "metadata": {
    "collapsed": true,
    "ExecuteTime": {
     "end_time": "2025-04-22T03:04:50.208135Z",
     "start_time": "2025-04-22T03:04:50.197129Z"
    }
   },
   "source": [
    "from xml.etree.ElementPath import prepare_self\n",
    "\n",
    "from flask import before_render_template\n",
    "from practiceAlgo import quantum\n",
    "\n",
    "\n",
    "def fcfs(processes):\n",
    "    processes.sort(key=lambda x: x[0])  # Sort by Arrival Time\n",
    "    twt = 0\n",
    "    ttt = 0\n",
    "    current_time = 0\n",
    "\n",
    "    for at, bt, pid in processes:\n",
    "        if current_time < at:  # Allow CPU to stay idle if needed\n",
    "            current_time = at\n",
    "        wt = current_time - at\n",
    "        tt = bt + wt\n",
    "        current_time += bt\n",
    "        twt += wt\n",
    "        ttt += tt\n",
    "\n",
    "    print(f\"\\nAvg TAT = {ttt / len(processes):.2f}\")\n",
    "    print(f\"Avg WT = {twt / len(processes):.2f}\")\n",
    "\n",
    "# Correcting Process List Format\n",
    "processes_list = [\n",
    "    (0, 5, 1),  # Process 1: Arrives at 0, Burst Time 5\n",
    "    (1, 3, 2),  # Process 2: Arrives at 1, Burst Time 3\n",
    "    (2, 8, 3)   # Process 3: Arrives at 2, Burst Time 8\n",
    "]\n",
    "\n",
    "fcfs(processes_list)"
   ],
   "outputs": [
    {
     "name": "stdout",
     "output_type": "stream",
     "text": [
      "\n",
      "Avg TAT = 8.67\n",
      "Avg WT = 3.33\n"
     ]
    }
   ],
   "execution_count": 9
  },
  {
   "metadata": {
    "ExecuteTime": {
     "end_time": "2025-04-22T03:05:44.085282Z",
     "start_time": "2025-04-22T03:05:44.074482Z"
    }
   },
   "cell_type": "code",
   "source": [
    "def sjf(processes):\n",
    "    processes.sort(key=lambda x: x[0])\n",
    "    ttt, twt, current_time = 0, 0, 0\n",
    "    n = len(processes)\n",
    "\n",
    "    while processes:\n",
    "        aval_process = [process for process in processes if process[0] <= current_time ]\n",
    "\n",
    "        if aval_process:\n",
    "            process = min(aval_process, key=lambda x: x[1] )\n",
    "        else:\n",
    "            process = min(processes, key=lambda x: x[0] )\n",
    "            current_time = process[0]\n",
    "\n",
    "        at, bt, pid = process\n",
    "        wt = current_time - at\n",
    "        tt = wt + bt\n",
    "\n",
    "        ttt += tt\n",
    "        twt += wt\n",
    "        current_time += bt\n",
    "        processes.remove(process)\n",
    "\n",
    "    print(f\"\\nAvg TAT = {ttt / n:.2f}\")\n",
    "    print(f\"Avg WT = {twt / n:.2f}\")\n",
    "\n",
    "process_list = [(0, 16, 0), (1, 5, 1), (2, 6, 2), (3, 1, 3), (4, 2, 4)]\n",
    "sjf(process_list)"
   ],
   "id": "b0b129cd1979b2b0",
   "outputs": [
    {
     "name": "stdout",
     "output_type": "stream",
     "text": [
      "\n",
      "Avg TAT = 19.20\n",
      "Avg WT = 13.20\n"
     ]
    }
   ],
   "execution_count": 11
  },
  {
   "metadata": {
    "ExecuteTime": {
     "end_time": "2025-04-22T03:13:40.682449Z",
     "start_time": "2025-04-22T03:13:40.627509Z"
    }
   },
   "cell_type": "code",
   "outputs": [
    {
     "name": "stdout",
     "output_type": "stream",
     "text": [
      "\n",
      "Avg TAT = 10.80\n",
      "Avg WT = 4.80\n"
     ]
    }
   ],
   "execution_count": 12,
   "source": [
    "def srtf(processes):\n",
    "    processes.sort(key=lambda x: x[0])\n",
    "\n",
    "    ttt, twt, current_time = 0, 0, 0\n",
    "    remining_time = {p[0] :p[1] for p in processes}\n",
    "    n = len(processes)\n",
    "\n",
    "    while remining_time:\n",
    "        avl_process = [p for p in processes if p[0] <= current_time and p[2] in remining_time ]\n",
    "\n",
    "        if avl_process:\n",
    "            process = min(avl_process, key=lambda x: remining_time[x[2]])\n",
    "        else:\n",
    "            process = min(processes, key=lambda x: x[0] )\n",
    "            current_time = process[0]\n",
    "        at, bt, pid = process\n",
    "        remining_time[pid] -= 1\n",
    "        current_time += 1\n",
    "        if remining_time[pid] == 0:\n",
    "            wt = current_time - at - bt\n",
    "            tt = current_time - at\n",
    "\n",
    "            ttt += tt\n",
    "            twt += wt\n",
    "            del remining_time[pid]\n",
    "    print(f\"\\nAvg TAT = {ttt / n:.2f}\")\n",
    "    print(f\"Avg WT = {twt / n:.2f}\")\n",
    "\n",
    "process_list = [(0, 16, 0), (1, 5, 1), (2, 6, 2), (3, 1, 3), (4, 2, 4)]\n",
    "srtf(process_list)\n"
   ],
   "id": "ff95d9db9a966c2f"
  },
  {
   "metadata": {
    "ExecuteTime": {
     "end_time": "2025-04-22T03:21:25.095631Z",
     "start_time": "2025-04-22T03:21:25.085391Z"
    }
   },
   "cell_type": "code",
   "outputs": [
    {
     "name": "stdout",
     "output_type": "stream",
     "text": [
      "Avg TAT = 14.25\n",
      "Avg WT = 9.50\n"
     ]
    }
   ],
   "execution_count": 15,
   "source": [
    "def rrs(processes, quantum):\n",
    "    ttt, twt, current_time = 0, 0, 0\n",
    "    n = len(processes)\n",
    "    remaining_time = {p[2]:p[1] for p in processes}\n",
    "    queue = processes[:]\n",
    "    while remaining_time:\n",
    "        for at, bt, pid in queue:\n",
    "            if pid in remaining_time and at <= current_time:\n",
    "                if remaining_time[pid] > quantum:\n",
    "                    current_time += quantum\n",
    "                    remaining_time[pid] -= quantum\n",
    "                else:\n",
    "                    current_time += remaining_time[pid]\n",
    "                    wt = current_time - at - bt\n",
    "                    tt = current_time - at\n",
    "                    ttt += tt\n",
    "                    twt += wt\n",
    "                    del remaining_time[pid]\n",
    "\n",
    "    print(f\"Avg TAT = {ttt / n:.2f}\")\n",
    "    print(f\"Avg WT = {twt / n:.2f}\")\n",
    "\n",
    "process_list = [(0, 5, 0), (1, 7, 1), (2, 3, 2), (3, 4, 3)]\n",
    "quantum = 2\n",
    "rrs(process_list, quantum)"
   ],
   "id": "a7781d812c95d30c"
  },
  {
   "metadata": {},
   "cell_type": "markdown",
   "source": "Priority Scheduling",
   "id": "4ea6cf54a400d6d2"
  },
  {
   "metadata": {
    "ExecuteTime": {
     "end_time": "2025-04-22T03:51:35.377211Z",
     "start_time": "2025-04-22T03:51:35.364537Z"
    }
   },
   "cell_type": "code",
   "outputs": [
    {
     "name": "stdout",
     "output_type": "stream",
     "text": [
      "\n",
      "Avg TAT = 16.40\n",
      "Avg WT = 10.40\n"
     ]
    }
   ],
   "execution_count": 18,
   "source": [
    "def ppriority_s(processes):\n",
    "    processes.sort(key=lambda x:(x[3], x[0]))\n",
    "    ttt, twt, current_time = 0, 0, 0\n",
    "    n = len(processes)\n",
    "    for at, bt, pid, priority in processes:\n",
    "        if current_time < at:\n",
    "            current_time = at\n",
    "\n",
    "        current_time += bt\n",
    "        wt = current_time - at - bt\n",
    "        tt = current_time - at\n",
    "        ttt += tt\n",
    "        twt += wt\n",
    "\n",
    "    print(f\"\\nAvg TAT = {ttt / n:.2f}\")\n",
    "    print(f\"Avg WT = {twt / n:.2f}\")\n",
    "\n",
    "process_list = [(0, 16, 0, 3), (1, 5, 1, 1), (2, 6, 2, 4), (3, 1, 3, 2), (4, 2, 4, 3)]\n",
    "ppriority_s(process_list)\n"
   ],
   "id": "afca8e438a10deab"
  },
  {
   "metadata": {},
   "cell_type": "markdown",
   "source": "SJF",
   "id": "94c48c81b0c77595"
  },
  {
   "metadata": {
    "ExecuteTime": {
     "end_time": "2025-04-22T05:48:23.940121Z",
     "start_time": "2025-04-22T05:48:23.856104Z"
    }
   },
   "cell_type": "code",
   "source": [
    "def sjf(processes):\n",
    "    ttt, twt, current_time = 0, 0, 0\n",
    "    n = len(processes)\n",
    "    while processes:\n",
    "        avl_process = [p for p in processes if p[0] <= current_time]\n",
    "        if avl_process:\n",
    "            process = min(avl_process, key=lambda x: x[1])\n",
    "        else:\n",
    "            process = min(processes, key=lambda x: x[0] )\n",
    "            current_time = process[0]\n",
    "        at, bt, pid = process\n",
    "        current_time += bt\n",
    "        wt = current_time - at - bt\n",
    "        tt = current_time - at\n",
    "        ttt += tt\n",
    "        twt += wt\n",
    "        processes.remove(process)\n",
    "    print(f\"\\nAvg TAT = {ttt / n:.2f}\")\n",
    "    print(f\"Avg WT = {twt / n:.2f}\")\n",
    "\n",
    "process_list = [(0, 16, 0), (1, 5, 1), (2, 6, 2), (3, 1, 3), (4, 2, 4)]\n",
    "sjf(process_list)"
   ],
   "id": "7ae8d8122534ed77",
   "outputs": [
    {
     "name": "stdout",
     "output_type": "stream",
     "text": [
      "\n",
      "Avg TAT = 19.20\n",
      "Avg WT = 13.20\n"
     ]
    }
   ],
   "execution_count": 2
  },
  {
   "metadata": {},
   "cell_type": "code",
   "outputs": [],
   "execution_count": null,
   "source": "",
   "id": "d588c7aa70bd7825"
  }
 ],
 "metadata": {
  "kernelspec": {
   "display_name": "Python 3",
   "language": "python",
   "name": "python3"
  },
  "language_info": {
   "codemirror_mode": {
    "name": "ipython",
    "version": 2
   },
   "file_extension": ".py",
   "mimetype": "text/x-python",
   "name": "python",
   "nbconvert_exporter": "python",
   "pygments_lexer": "ipython2",
   "version": "2.7.6"
  }
 },
 "nbformat": 4,
 "nbformat_minor": 5
}
