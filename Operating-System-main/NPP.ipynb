{
 "cells": [
  {
   "cell_type": "code",
   "id": "initial_id",
   "metadata": {
    "collapsed": true,
    "ExecuteTime": {
     "end_time": "2025-02-04T09:09:53.591653Z",
     "start_time": "2025-02-04T09:09:10.816385Z"
    }
   },
   "source": [
    "n = int(input(\"Enter number of processes: \"))\n",
    "print()\n",
    "at = [int(input(f\"Enter arrival time for P{i + 1}: \")) for i in range(n)]\n",
    "print()\n",
    "bt = [int(input(f\"Enter burst time for P{i + 1}: \")) for i in range(n)]\n",
    "print()\n",
    "priority = [int(input(f\"Enter priority for P{i + 1}: \")) for i in range(n)]\n",
    "\n",
    "processes = list(range(n))\n",
    "wt = [0] * n\n",
    "tat = [0] * n\n",
    "completion_time = [0] * n\n",
    "\n",
    "remaining_processes = [(i, at[i], bt[i], priority[i]) for i in range(n)]\n",
    "current_time = min(at)\n",
    "executed_processes = []\n",
    "\n",
    "while remaining_processes:\n",
    "    available = [p for p in remaining_processes if p[1] <= current_time]\n",
    "\n",
    "    if not available:\n",
    "        current_time = min(p[1] for p in remaining_processes)\n",
    "        continue\n",
    "\n",
    "    process = min(available, key=lambda x: (x[3], x[1]))\n",
    "    pid = process[0]\n",
    "\n",
    "    completion_time[pid] = current_time + process[2]\n",
    "\n",
    "    tat[pid] = completion_time[pid] - at[pid]\n",
    "    wt[pid] = tat[pid] - bt[pid]\n",
    "\n",
    "    current_time = completion_time[pid]\n",
    "    remaining_processes.remove(process)\n",
    "    executed_processes.append(process)\n",
    "\n",
    "total_wt = sum(wt)\n",
    "total_tat = sum(tat)\n",
    "\n",
    "print(\"\\nProcesses | Arrival | Burst | Priority | Waiting | Turnaround\")\n",
    "print(\"-\" * 60)\n",
    "for i in range(n):\n",
    "    print(f\"{i + 1:^8} | {at[i]:^7} | {bt[i]:^5} | {priority[i]:^8} | {wt[i]:^7} | {tat[i]:^10}\")\n",
    "print(\"-\" * 60)\n",
    "print(f\"\\nAverage waiting time = {total_wt / n:.2f}\")\n",
    "print(f\"Average turnaround time = {total_tat / n:.2f}\")"
   ],
   "outputs": [
    {
     "name": "stdout",
     "output_type": "stream",
     "text": [
      "\n",
      "\n",
      "\n",
      "\n",
      "Processes | Arrival | Burst | Priority | Waiting | Turnaround\n",
      "------------------------------------------------------------\n",
      "   1     |    0    |  10   |    2     |    0    |     10    \n",
      "   2     |    1    |   5   |    0     |    9    |     14    \n",
      "   3     |    2    |   8   |    1     |   13    |     21    \n",
      "------------------------------------------------------------\n",
      "\n",
      "Average waiting time = 7.33\n",
      "Average turnaround time = 15.00\n"
     ]
    }
   ],
   "execution_count": 1
  }
 ],
 "metadata": {
  "kernelspec": {
   "display_name": "Python 3",
   "language": "python",
   "name": "python3"
  },
  "language_info": {
   "codemirror_mode": {
    "name": "ipython",
    "version": 2
   },
   "file_extension": ".py",
   "mimetype": "text/x-python",
   "name": "python",
   "nbconvert_exporter": "python",
   "pygments_lexer": "ipython2",
   "version": "2.7.6"
  }
 },
 "nbformat": 4,
 "nbformat_minor": 5
}
