{
 "cells": [
  {
   "cell_type": "code",
   "id": "initial_id",
   "metadata": {
    "collapsed": true,
    "ExecuteTime": {
     "end_time": "2025-01-28T08:22:41.593105Z",
     "start_time": "2025-01-28T08:22:41.575310Z"
    }
   },
   "source": "import numpy as np",
   "outputs": [],
   "execution_count": 3
  },
  {
   "metadata": {
    "ExecuteTime": {
     "end_time": "2025-01-28T08:32:33.882439Z",
     "start_time": "2025-01-28T08:32:08.494683Z"
    }
   },
   "cell_type": "code",
   "source": [
    "# Let's use standard lists first\n",
    "num = int(input(\"Enter the number of processes: \"))\n",
    "At = []\n",
    "Bt = []\n",
    "\n",
    "for i in range(num):\n",
    "    at = int(input(f\"Enter At for Process {i +1}: \"))\n",
    "    At.append(at)\n",
    "    bt = int(input(f\"Enter Bt for Process {i +1}: \"))\n",
    "    Bt.append(bt)\n",
    "\n",
    "print(\"Arrival Times:\", At)\n",
    "print(\"Burst Times:\", Bt)\n"
   ],
   "id": "4b231c00a9b2d92f",
   "outputs": [
    {
     "name": "stdout",
     "output_type": "stream",
     "text": [
      "Arrival Times: [2, 2]\n",
      "Burst Times: [0, 3]\n"
     ]
    }
   ],
   "execution_count": 10
  }
 ],
 "metadata": {
  "kernelspec": {
   "display_name": "Python 3",
   "language": "python",
   "name": "python3"
  },
  "language_info": {
   "codemirror_mode": {
    "name": "ipython",
    "version": 2
   },
   "file_extension": ".py",
   "mimetype": "text/x-python",
   "name": "python",
   "nbconvert_exporter": "python",
   "pygments_lexer": "ipython2",
   "version": "2.7.6"
  }
 },
 "nbformat": 4,
 "nbformat_minor": 5
}
