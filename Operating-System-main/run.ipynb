{
 "cells": [
  {
   "cell_type": "code",
   "id": "initial_id",
   "metadata": {
    "collapsed": true,
    "ExecuteTime": {
     "end_time": "2025-04-20T17:57:49.603733Z",
     "start_time": "2025-04-20T17:57:49.592251Z"
    }
   },
   "source": "from FCFS import *",
   "outputs": [],
   "execution_count": 1
  },
  {
   "metadata": {
    "ExecuteTime": {
     "end_time": "2025-04-20T17:58:29.335672Z",
     "start_time": "2025-04-20T17:58:29.321799Z"
    }
   },
   "cell_type": "code",
   "source": [
    "# FCFS\n",
    "at = [0, 1, 2]\n",
    "bt = [5, 3, 8]\n",
    "n = len(at)\n",
    "\n",
    "fcfs(n , at, bt)\n",
    "# (3.33, 8.67)"
   ],
   "id": "f39320971cea90ef",
   "outputs": [
    {
     "data": {
      "text/plain": [
       "{'AVG WT': 3.3333333333333335, 'AVG TAT': 8.666666666666666}"
      ]
     },
     "execution_count": 2,
     "metadata": {},
     "output_type": "execute_result"
    }
   ],
   "execution_count": 2
  }
 ],
 "metadata": {
  "kernelspec": {
   "display_name": "Python 3",
   "language": "python",
   "name": "python3"
  },
  "language_info": {
   "codemirror_mode": {
    "name": "ipython",
    "version": 2
   },
   "file_extension": ".py",
   "mimetype": "text/x-python",
   "name": "python",
   "nbconvert_exporter": "python",
   "pygments_lexer": "ipython2",
   "version": "2.7.6"
  }
 },
 "nbformat": 4,
 "nbformat_minor": 5
}
